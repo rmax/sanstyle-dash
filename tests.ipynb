{
 "cells": [
  {
   "cell_type": "code",
   "execution_count": 1,
   "id": "7097d343",
   "metadata": {},
   "outputs": [
    {
     "name": "stdout",
     "output_type": "stream",
     "text": [
      "Hostname :   DESKTOP-5D4G6G9\n",
      "IP :  192.168.199.223\n"
     ]
    }
   ],
   "source": [
    "import json\n",
    "\n",
    "from dash import html\n",
    "from dash.dependencies import Input, Output\n",
    "from dash import callback_context\n",
    "\n",
    "from app import app"
   ]
  },
  {
   "cell_type": "code",
   "execution_count": 2,
   "id": "4680f8b4",
   "metadata": {},
   "outputs": [],
   "source": [
    "import time\n",
    "from dash.long_callback import DiskcacheLongCallbackManager\n",
    "from dash.dependencies import Input, Output\n",
    "\n",
    "## Diskcache\n",
    "import diskcache\n",
    "cache = diskcache.Cache(\"./cache\")\n",
    "long_callback_manager = DiskcacheLongCallbackManager(cache)\n",
    "\n",
    "layout = html.Div(\n",
    "    [\n",
    "        html.Div([html.P(id=\"paragraph_id\", children=[\"Button not clicked\"])]),\n",
    "        html.Button(id=\"button_id\", children=\"Run Job!\"),\n",
    "    ]\n",
    ")\n",
    "\n",
    "@app.long_callback(\n",
    "    output=Output(\"paragraph_id\", \"children\"),\n",
    "    inputs=Input(\"button_id\", \"n_clicks\"),\n",
    "    manager=long_callback_manager,\n",
    ")\n",
    "def callback(n_clicks):\n",
    "    time.sleep(2.0)\n",
    "    return [f\"Clicked {n_clicks} times\"]"
   ]
  },
  {
   "cell_type": "code",
   "execution_count": 3,
   "id": "57002fe7",
   "metadata": {},
   "outputs": [
    {
     "name": "stdout",
     "output_type": "stream",
     "text": [
      "Dash app running on http://192.168.199.223:8059/\n"
     ]
    }
   ],
   "source": [
    "from dash_xinet.server import run_server\n",
    "port = 8059\n",
    "app.layout = layout\n",
    "await run_server(app, \n",
    "           layout,\n",
    "           port=port, \n",
    "           debug=True\n",
    "          )"
   ]
  },
  {
   "cell_type": "code",
   "execution_count": null,
   "id": "fc53a5ff",
   "metadata": {},
   "outputs": [],
   "source": []
  },
  {
   "cell_type": "code",
   "execution_count": null,
   "id": "5c0092a7",
   "metadata": {},
   "outputs": [],
   "source": []
  }
 ],
 "metadata": {
  "kernelspec": {
   "display_name": "ai",
   "language": "python",
   "name": "ai"
  },
  "language_info": {
   "codemirror_mode": {
    "name": "ipython",
    "version": 3
   },
   "file_extension": ".py",
   "mimetype": "text/x-python",
   "name": "python",
   "nbconvert_exporter": "python",
   "pygments_lexer": "ipython3",
   "version": "3.9.5"
  }
 },
 "nbformat": 4,
 "nbformat_minor": 5
}
